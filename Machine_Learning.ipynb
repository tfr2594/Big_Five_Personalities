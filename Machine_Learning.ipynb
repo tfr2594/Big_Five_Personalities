{
 "cells": [
  {
   "cell_type": "code",
   "execution_count": null,
   "id": "fbcde648",
   "metadata": {},
   "outputs": [],
   "source": [
    "import pandas as pd\n",
    "import numpy as np\n",
    "import matplotlib.pyplot as plt"
   ]
  },
  {
   "cell_type": "code",
   "execution_count": null,
   "id": "5ecbad65",
   "metadata": {},
   "outputs": [],
   "source": [
    "#learning I can do, clustering: K-means, hierarchical clustering, and DBSCAN, or use Neural networks\n",
    "#"
   ]
  }
 ],
 "metadata": {
  "kernelspec": {
   "display_name": "Python 3",
   "language": "python",
   "name": "python3"
  },
  "language_info": {
   "codemirror_mode": {
    "name": "ipython",
    "version": 3
   },
   "file_extension": ".py",
   "mimetype": "text/x-python",
   "name": "python",
   "nbconvert_exporter": "python",
   "pygments_lexer": "ipython3",
   "version": "3.8.8"
  }
 },
 "nbformat": 4,
 "nbformat_minor": 5
}
